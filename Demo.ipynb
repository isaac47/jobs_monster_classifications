{
 "cells": [
  {
   "cell_type": "markdown",
   "id": "316283d4-dd15-46cd-afc7-c19e74a1cfdd",
   "metadata": {},
   "source": [
    "# KMERAI DEMO: jobs Classification with fastText\n",
    "\n",
    "The goal of this notebook is to predict, base on the job description, the category class of the giben job.\n",
    "\n",
    "This quick tutorial introduces the task of text classification using the [fastText](https://fasttext.cc/) library and tries to show what the full pipeline looks like from the beginning (obtaining the dataset and preparing the train/valid split) to the end (predicting labels for unseen input data).\n",
    "\n",
    "source: https://www.kaggle.com/datasets/PromptCloudHQ/us-jobs-on-monstercom/metadata?resource=download"
   ]
  },
  {
   "cell_type": "markdown",
   "id": "7b906dfb-4c61-4b68-97f4-d9fc83d04df2",
   "metadata": {},
   "source": [
    "## The US jobs on Monster.com dataset\n",
    "\n",
    "We'll use a dataset of more than 4.7 million job listings on [Monster.com](https://www.monster.com/) and we will transform it in fastText format -- basically a text file where each line contains one text document that is to be classified. Note that the lines start with `__label__` tags which denote the \"ground truth\" label for that particular text document.\n",
    "\n",
    "\n",
    "`__label__<X> __label__<Y> ... <Text>`\n",
    "\n",
    "\n",
    "For example:\n",
    "\n",
    "`__label__management an Aegion company, is looking for a Video Data Quality...`\n",
    "\n",
    "--------------------------\n",
    "\n",
    "In the next few cells we'll download the dataset and take a closer look at what the data looks like (using the [`head`](https://linux.101hacks.com/unix/head/) command) and some further statistics about the dataset (using the [`wc`](https://www.tecmint.com/wc-command-examples/) -- command)."
   ]
  },
  {
   "cell_type": "code",
   "execution_count": 7,
   "id": "f938d667-c10b-461d-99af-d4009e126724",
   "metadata": {},
   "outputs": [],
   "source": [
    "import pandas as pd\n",
    "import pandas as pd\n",
    "import numpy as np\n",
    "import re\n",
    "from tqdm import tqdm\n",
    " \n",
    "import nltk\n",
    "en_stop = set(nltk.corpus.stopwords.words('english'))\n",
    " \n",
    "from gensim.models.fasttext import FastText\n",
    " \n",
    "from sklearn.decomposition import PCA\n",
    "from sklearn.manifold import TSNE\n",
    "import seaborn as sns\n",
    "import matplotlib.pyplot as plt\n",
    " \n",
    "# Lemmatization\n",
    "from nltk.stem import WordNetLemmatizer\n",
    "stemmer = WordNetLemmatizer()"
   ]
  },
  {
   "cell_type": "code",
   "execution_count": 8,
   "id": "cba08896-7ef9-45e4-a8f5-606fae6758a7",
   "metadata": {},
   "outputs": [],
   "source": [
    "# Text cleaning function for gensim fastText word embeddings in python\n",
    "def process_text(document):\n",
    "    # Remove extra white space from text\n",
    "    document = re.sub(r'\\s+', ' ', document, flags=re.I)\n",
    "\n",
    "    # Remove all the special characters from text\n",
    "    document = re.sub(r'\\W', ' ', str(document))\n",
    "\n",
    "    # Remove all single characters from text\n",
    "    document = re.sub(r'\\s+[a-zA-Z]\\s+', ' ', document)\n",
    "\n",
    "    # Converting to Lowercase\n",
    "    document = document.lower()\n",
    "\n",
    "    # Word tokenization       \n",
    "    tokens = document.split()\n",
    "    # Lemmatization using NLTK\n",
    "    lemma_txt = [stemmer.lemmatize(word) for word in tokens]\n",
    "    # Remove stop words\n",
    "    lemma_no_stop_txt = [word for word in lemma_txt if word not in en_stop]\n",
    "    # Drop words \n",
    "    tokens = [word for word in tokens if len(word) > 3]\n",
    "\n",
    "    clean_txt = ' '.join(lemma_no_stop_txt)\n",
    "\n",
    "    return clean_txt"
   ]
  },
  {
   "cell_type": "code",
   "execution_count": null,
   "id": "b828d834-acbe-474b-86d3-bd988a1701f5",
   "metadata": {},
   "outputs": [],
   "source": [
    "df = pd.read_csv(\"job_dataset.csv\",sep=\";\")"
   ]
  },
  {
   "cell_type": "code",
   "execution_count": 38,
   "id": "b7793181-f537-40eb-b74b-6cdfba171282",
   "metadata": {},
   "outputs": [
    {
     "data": {
      "text/plain": [
       "(6673, 5)"
      ]
     },
     "execution_count": 38,
     "metadata": {},
     "output_type": "execute_result"
    }
   ],
   "source": [
    "df.shape"
   ]
  },
  {
   "cell_type": "code",
   "execution_count": 39,
   "id": "65c79a19-73a5-4b70-af64-dfc4cb1d6598",
   "metadata": {},
   "outputs": [
    {
     "data": {
      "text/html": [
       "<div>\n",
       "<style scoped>\n",
       "    .dataframe tbody tr th:only-of-type {\n",
       "        vertical-align: middle;\n",
       "    }\n",
       "\n",
       "    .dataframe tbody tr th {\n",
       "        vertical-align: top;\n",
       "    }\n",
       "\n",
       "    .dataframe thead th {\n",
       "        text-align: right;\n",
       "    }\n",
       "</style>\n",
       "<table border=\"1\" class=\"dataframe\">\n",
       "  <thead>\n",
       "    <tr style=\"text-align: right;\">\n",
       "      <th></th>\n",
       "      <th>Unnamed: 0</th>\n",
       "      <th>job_description</th>\n",
       "      <th>job_title</th>\n",
       "      <th>sector</th>\n",
       "      <th>category</th>\n",
       "    </tr>\n",
       "  </thead>\n",
       "  <tbody>\n",
       "    <tr>\n",
       "      <th>0</th>\n",
       "      <td>0</td>\n",
       "      <td>TeamSoft is seeing an IT Support Specialist to...</td>\n",
       "      <td>IT Support Technician Job in Madison</td>\n",
       "      <td>IT/Software Development</td>\n",
       "      <td>it</td>\n",
       "    </tr>\n",
       "    <tr>\n",
       "      <th>1</th>\n",
       "      <td>5</td>\n",
       "      <td>Job Description Job #:  720298Apex Systems has...</td>\n",
       "      <td>Construction PM - Charlottesville Job in Charl...</td>\n",
       "      <td>Experienced (Non-Manager)</td>\n",
       "      <td>experienced</td>\n",
       "    </tr>\n",
       "    <tr>\n",
       "      <th>2</th>\n",
       "      <td>8</td>\n",
       "      <td>Part-Time, 4:30 pm - 9:30 pm, Mon - Fri Brookd...</td>\n",
       "      <td>Housekeeper Job in Austin</td>\n",
       "      <td>Customer Support/Client Care</td>\n",
       "      <td>customer support</td>\n",
       "    </tr>\n",
       "    <tr>\n",
       "      <th>3</th>\n",
       "      <td>10</td>\n",
       "      <td>Aflac Insurance Sales Agent While a career in ...</td>\n",
       "      <td>Aflac Insurance Sales Agent Job in Berryville</td>\n",
       "      <td>Customer Support/Client Care</td>\n",
       "      <td>customer support</td>\n",
       "    </tr>\n",
       "    <tr>\n",
       "      <th>4</th>\n",
       "      <td>11</td>\n",
       "      <td>Enjoy making a great first impression? Our Sal...</td>\n",
       "      <td>Sales Associate Job in Columbus</td>\n",
       "      <td>Customer Support/Client Care</td>\n",
       "      <td>customer support</td>\n",
       "    </tr>\n",
       "  </tbody>\n",
       "</table>\n",
       "</div>"
      ],
      "text/plain": [
       "   Unnamed: 0                                    job_description  \\\n",
       "0           0  TeamSoft is seeing an IT Support Specialist to...   \n",
       "1           5  Job Description Job #:  720298Apex Systems has...   \n",
       "2           8  Part-Time, 4:30 pm - 9:30 pm, Mon - Fri Brookd...   \n",
       "3          10  Aflac Insurance Sales Agent While a career in ...   \n",
       "4          11  Enjoy making a great first impression? Our Sal...   \n",
       "\n",
       "                                           job_title  \\\n",
       "0               IT Support Technician Job in Madison   \n",
       "1  Construction PM - Charlottesville Job in Charl...   \n",
       "2                          Housekeeper Job in Austin   \n",
       "3      Aflac Insurance Sales Agent Job in Berryville   \n",
       "4                    Sales Associate Job in Columbus   \n",
       "\n",
       "                         sector          category  \n",
       "0       IT/Software Development                it  \n",
       "1     Experienced (Non-Manager)       experienced  \n",
       "2  Customer Support/Client Care  customer support  \n",
       "3  Customer Support/Client Care  customer support  \n",
       "4  Customer Support/Client Care  customer support  "
      ]
     },
     "execution_count": 39,
     "metadata": {},
     "output_type": "execute_result"
    }
   ],
   "source": [
    "df.head()"
   ]
  },
  {
   "cell_type": "code",
   "execution_count": 45,
   "id": "5957206f-db85-4a13-8efd-43cd79bb1031",
   "metadata": {},
   "outputs": [
    {
     "data": {
      "text/plain": [
       "<AxesSubplot:ylabel='category'>"
      ]
     },
     "execution_count": 45,
     "metadata": {},
     "output_type": "execute_result"
    },
    {
     "data": {
      "image/png": "[encoded data removed]",
      "text/plain": [
       "<Figure size 864x576 with 1 Axes>"
      ]
     },
     "metadata": {
      "needs_background": "light"
     },
     "output_type": "display_data"
    }
   ],
   "source": [
    "df.groupby('category')['job_description'].count().plot(kind='barh', figsize=(12,8))"
   ]
  },
  {
   "cell_type": "code",
   "execution_count": 11,
   "id": "1b0f4118-51a1-4201-9571-686c6690c6cb",
   "metadata": {},
   "outputs": [],
   "source": [
    "description_corpus = list(df['job_description'])"
   ]
  },
  {
   "cell_type": "code",
   "execution_count": 15,
   "id": "2992b0bd-ffdb-4587-ac20-b5ec83d61059",
   "metadata": {
    "collapsed": true,
    "jupyter": {
     "outputs_hidden": true
    },
    "tags": []
   },
   "outputs": [
    {
     "name": "stderr",
     "output_type": "stream",
     "text": [
      "\n",
      "\n",
      "  0%|          | 0/6673 [01:16<?, ?it/s]\u001b[A\u001b[A\n",
      "\n",
      "\n",
      "  0%|          | 1/6673 [00:01<2:35:58,  1.40s/it]\u001b[A\u001b[A\n",
      "\n",
      "  1%|          | 77/6673 [00:01<01:33, 70.82it/s] \u001b[A\u001b[A\n",
      "\n",
      "  2%|▏         | 163/6673 [00:01<00:40, 162.69it/s]\u001b[A\u001b[A\n",
      "\n",
      "  4%|▎         | 246/6673 [00:01<00:24, 257.82it/s]\u001b[A\u001b[A\n",
      "\n",
      "  5%|▍         | 318/6673 [00:01<00:18, 335.26it/s]\u001b[A\u001b[A\n",
      "\n",
      "  6%|▌         | 389/6673 [00:01<00:15, 395.52it/s]\u001b[A\u001b[A\n",
      "\n",
      "  7%|▋         | 466/6673 [00:02<00:13, 474.52it/s]\u001b[A\u001b[A\n",
      "\n",
      "  8%|▊         | 537/6673 [00:02<00:11, 529.12it/s]\u001b[A\u001b[A\n",
      "\n",
      "  9%|▉         | 622/6673 [00:02<00:09, 608.80it/s]\u001b[A\u001b[A\n",
      "\n",
      " 11%|█         | 705/6673 [00:02<00:08, 663.76it/s]\u001b[A\u001b[A\n",
      "\n",
      " 12%|█▏        | 784/6673 [00:02<00:08, 696.84it/s]\u001b[A\u001b[A\n",
      "\n",
      " 13%|█▎        | 862/6673 [00:02<00:08, 691.67it/s]\u001b[A\u001b[A\n",
      "\n",
      " 14%|█▍        | 963/6673 [00:02<00:07, 777.39it/s]\u001b[A\u001b[A\n",
      "\n",
      " 16%|█▌        | 1046/6673 [00:02<00:07, 738.10it/s]\u001b[A\u001b[A\n",
      "\n",
      " 17%|█▋        | 1144/6673 [00:02<00:06, 803.62it/s]\u001b[A\u001b[A\n",
      "\n",
      " 18%|█▊        | 1230/6673 [00:02<00:06, 816.21it/s]\u001b[A\u001b[A\n",
      "\n",
      " 20%|█▉        | 1321/6673 [00:03<00:06, 840.86it/s]\u001b[A\u001b[A\n",
      "\n",
      " 21%|██        | 1416/6673 [00:03<00:06, 871.31it/s]\u001b[A\u001b[A\n",
      "\n",
      " 23%|██▎       | 1505/6673 [00:03<00:06, 850.41it/s]\u001b[A\u001b[A\n",
      "\n",
      " 24%|██▍       | 1592/6673 [00:03<00:05, 854.20it/s]\u001b[A\u001b[A\n",
      "\n",
      " 25%|██▌       | 1679/6673 [00:03<00:06, 803.91it/s]\u001b[A\u001b[A\n",
      "\n",
      " 26%|██▋       | 1761/6673 [00:03<00:06, 775.96it/s]\u001b[A\u001b[A\n",
      "\n",
      " 28%|██▊       | 1840/6673 [00:03<00:06, 762.02it/s]\u001b[A\u001b[A\n",
      "\n",
      " 29%|██▊       | 1917/6673 [00:03<00:06, 748.98it/s]\u001b[A\u001b[A\n",
      "\n",
      " 30%|██▉       | 1993/6673 [00:03<00:06, 751.50it/s]\u001b[A\u001b[A\n",
      "\n",
      " 31%|███▏      | 2093/6673 [00:04<00:05, 822.36it/s]\u001b[A\u001b[A\n",
      "\n",
      " 33%|███▎      | 2176/6673 [00:04<00:05, 814.12it/s]\u001b[A\u001b[A\n",
      "\n",
      " 34%|███▍      | 2263/6673 [00:04<00:05, 829.49it/s]\u001b[A\u001b[A\n",
      "\n",
      " 36%|███▌      | 2400/6673 [00:04<00:04, 985.90it/s]\u001b[A\u001b[A\n",
      "\n",
      " 38%|███▊      | 2511/6673 [00:04<00:04, 1022.19it/s]\u001b[A\u001b[A\n",
      "\n",
      " 39%|███▉      | 2631/6673 [00:04<00:03, 1073.84it/s]\u001b[A\u001b[A\n",
      "\n",
      " 41%|████      | 2739/6673 [00:04<00:03, 992.24it/s] \u001b[A\u001b[A\n",
      "\n",
      " 43%|████▎     | 2840/6673 [00:04<00:04, 954.60it/s]\u001b[A\u001b[A\n",
      "\n",
      " 44%|████▍     | 2937/6673 [00:04<00:04, 902.64it/s]\u001b[A\u001b[A\n",
      "\n",
      " 45%|████▌     | 3029/6673 [00:05<00:04, 886.44it/s]\u001b[A\u001b[A\n",
      "\n",
      " 47%|████▋     | 3119/6673 [00:05<00:04, 852.00it/s]\u001b[A\u001b[A\n",
      "\n",
      " 48%|████▊     | 3205/6673 [00:05<00:04, 835.33it/s]\u001b[A\u001b[A\n",
      "\n",
      " 49%|████▉     | 3289/6673 [00:05<00:04, 826.69it/s]\u001b[A\u001b[A\n",
      "\n",
      " 51%|█████     | 3372/6673 [00:05<00:04, 822.94it/s]\u001b[A\u001b[A\n",
      "\n",
      " 52%|█████▏    | 3455/6673 [00:05<00:04, 801.14it/s]\u001b[A\u001b[A\n",
      "\n",
      " 53%|█████▎    | 3544/6673 [00:05<00:03, 824.81it/s]\u001b[A\u001b[A\n",
      "\n",
      " 54%|█████▍    | 3627/6673 [00:05<00:03, 783.09it/s]\u001b[A\u001b[A\n",
      "\n",
      " 56%|█████▌    | 3718/6673 [00:05<00:03, 814.91it/s]\u001b[A\u001b[A\n",
      "\n",
      " 57%|█████▋    | 3801/6673 [00:05<00:03, 808.00it/s]\u001b[A\u001b[A\n",
      "\n",
      " 58%|█████▊    | 3891/6673 [00:06<00:03, 834.26it/s]\u001b[A\u001b[A\n",
      "\n",
      " 60%|█████▉    | 3979/6673 [00:06<00:03, 846.54it/s]\u001b[A\u001b[A\n",
      "\n",
      " 61%|██████    | 4064/6673 [00:06<00:03, 839.02it/s]\u001b[A\u001b[A\n",
      "\n",
      " 62%|██████▏   | 4149/6673 [00:06<00:03, 839.12it/s]\u001b[A\u001b[A\n",
      "\n",
      " 63%|██████▎   | 4234/6673 [00:06<00:02, 842.05it/s]\u001b[A\u001b[A\n",
      "\n",
      " 65%|██████▍   | 4325/6673 [00:06<00:02, 859.47it/s]\u001b[A\u001b[A\n",
      "\n",
      " 66%|██████▌   | 4412/6673 [00:06<00:02, 823.99it/s]\u001b[A\u001b[A\n",
      "\n",
      " 67%|██████▋   | 4495/6673 [00:06<00:02, 799.61it/s]\u001b[A\u001b[A\n",
      "\n",
      " 69%|██████▊   | 4576/6673 [00:06<00:02, 800.05it/s]\u001b[A\u001b[A\n",
      "\n",
      " 70%|██████▉   | 4657/6673 [00:07<00:02, 782.51it/s]\u001b[A\u001b[A\n",
      "\n",
      " 71%|███████   | 4736/6673 [00:07<00:02, 779.34it/s]\u001b[A\u001b[A\n",
      "\n",
      " 72%|███████▏  | 4815/6673 [00:07<00:02, 746.05it/s]\u001b[A\u001b[A\n",
      "\n",
      " 73%|███████▎  | 4890/6673 [00:07<00:02, 717.95it/s]\u001b[A\u001b[A\n",
      "\n",
      " 74%|███████▍  | 4966/6673 [00:07<00:02, 728.87it/s]\u001b[A\u001b[A\n",
      "\n",
      " 76%|███████▌  | 5053/6673 [00:07<00:02, 767.82it/s]\u001b[A\u001b[A\n",
      "\n",
      " 77%|███████▋  | 5143/6673 [00:07<00:01, 802.29it/s]\u001b[A\u001b[A\n",
      "\n",
      " 78%|███████▊  | 5224/6673 [00:07<00:01, 729.69it/s]\u001b[A\u001b[A\n",
      "\n",
      " 79%|███████▉  | 5299/6673 [00:07<00:01, 725.07it/s]\u001b[A\u001b[A\n",
      "\n",
      " 81%|████████  | 5373/6673 [00:08<00:01, 714.53it/s]\u001b[A\u001b[A\n",
      "\n",
      " 82%|████████▏ | 5446/6673 [00:08<00:01, 714.49it/s]\u001b[A\u001b[A\n",
      "\n",
      " 83%|████████▎ | 5518/6673 [00:08<00:01, 711.86it/s]\u001b[A\u001b[A\n",
      "\n",
      " 84%|████████▍ | 5590/6673 [00:08<00:01, 713.45it/s]\u001b[A\u001b[A\n",
      "\n",
      " 85%|████████▍ | 5670/6673 [00:08<00:01, 738.33it/s]\u001b[A\u001b[A\n",
      "\n",
      " 86%|████████▌ | 5748/6673 [00:08<00:01, 747.34it/s]\u001b[A\u001b[A\n",
      "\n",
      " 87%|████████▋ | 5827/6673 [00:08<00:01, 759.63it/s]\u001b[A\u001b[A\n",
      "\n",
      " 89%|████████▊ | 5914/6673 [00:08<00:00, 791.69it/s]\u001b[A\u001b[A\n",
      "\n",
      " 90%|████████▉ | 6000/6673 [00:08<00:00, 811.85it/s]\u001b[A\u001b[A\n",
      "\n",
      " 91%|█████████ | 6089/6673 [00:08<00:00, 834.96it/s]\u001b[A\u001b[A\n",
      "\n",
      " 93%|█████████▎| 6173/6673 [00:09<00:00, 832.49it/s]\u001b[A\u001b[A\n",
      "\n",
      " 94%|█████████▍| 6257/6673 [00:09<00:00, 804.23it/s]\u001b[A\u001b[A\n",
      "\n",
      " 95%|█████████▌| 6340/6673 [00:09<00:00, 811.32it/s]\u001b[A\u001b[A\n",
      "\n",
      " 96%|█████████▌| 6422/6673 [00:09<00:00, 810.70it/s]\u001b[A\u001b[A\n",
      "\n",
      " 97%|█████████▋| 6504/6673 [00:09<00:00, 787.42it/s]\u001b[A\u001b[A\n",
      "\n",
      " 99%|█████████▊| 6583/6673 [00:09<00:00, 736.27it/s]\u001b[A\u001b[A\n",
      "\n",
      "100%|██████████| 6673/6673 [00:09<00:00, 687.83it/s]\u001b[A\u001b[A\n",
      "100%|██████████| 6673/6673 [00:00<00:00, 16307.54it/s]\n"
     ]
    }
   ],
   "source": [
    "clean_corpus = [process_text(sentence) for sentence in tqdm(description_corpus) if sentence.strip() !='']\n",
    " \n",
    "word_tokenizer = nltk.WordPunctTokenizer()\n",
    "word_tokens = [word_tokenizer.tokenize(sent) for sent in tqdm(clean_corpus)]"
   ]
  },
  {
   "cell_type": "code",
   "execution_count": 47,
   "id": "28d5ac91-879d-4285-9151-a1c1325eea5e",
   "metadata": {},
   "outputs": [
    {
     "data": {
      "text/plain": [
       "6673"
      ]
     },
     "execution_count": 47,
     "metadata": {},
     "output_type": "execute_result"
    }
   ],
   "source": [
    "len(clean_corpus)"
   ]
  },
  {
   "cell_type": "code",
   "execution_count": 48,
   "id": "aca389ff-330f-4b2e-bcd9-2a5f89ee7060",
   "metadata": {},
   "outputs": [
    {
     "data": {
      "text/plain": [
       "6673"
      ]
     },
     "execution_count": 48,
     "metadata": {},
     "output_type": "execute_result"
    }
   ],
   "source": [
    "len(word_tokens)"
   ]
  },
  {
   "cell_type": "code",
   "execution_count": 18,
   "id": "6bc3c482-4506-45cf-9636-6da6cff8bc40",
   "metadata": {},
   "outputs": [],
   "source": [
    "#word_tokens[:2]"
   ]
  },
  {
   "cell_type": "markdown",
   "id": "f67edce1-4e39-4dd8-bbeb-0cb2b1cb3bfa",
   "metadata": {},
   "source": [
    "## Train fastText word embeddings python"
   ]
  },
  {
   "cell_type": "code",
   "execution_count": 20,
   "id": "e1638ccb-2d8e-4f7a-9c97-d4870dff3f8a",
   "metadata": {},
   "outputs": [
    {
     "name": "stdout",
     "output_type": "stream",
     "text": [
      "CPU times: user 1 µs, sys: 1 µs, total: 2 µs\n",
      "Wall time: 5.48 µs\n"
     ]
    }
   ],
   "source": [
    "# Defining values for parameters\n",
    "embedding_size = 300\n",
    "window_size = 5\n",
    "min_word = 5\n",
    "down_sampling = 1e-2\n",
    " \n",
    "%time\n",
    "fast_Text_model = FastText(word_tokens,\n",
    "                      size=embedding_size,\n",
    "                      window=window_size,\n",
    "                      min_count=min_word,\n",
    "                      sample=down_sampling,\n",
    "                      workers = 4,\n",
    "                      sg=1,\n",
    "                      iter=100)"
   ]
  },
  {
   "cell_type": "code",
   "execution_count": 21,
   "id": "83329bd2-681a-4544-9cad-d35cf332e60c",
   "metadata": {},
   "outputs": [],
   "source": [
    "from gensim.models import Word2Vec\n",
    "# Save fastText gensim model\n",
    "fast_Text_model.save(\"ft_model\")"
   ]
  },
  {
   "cell_type": "markdown",
   "id": "c199e811-5918-4509-adb0-4d26ed13064f",
   "metadata": {},
   "source": [
    "## Load saved gensim fastText model"
   ]
  },
  {
   "cell_type": "code",
   "execution_count": 22,
   "id": "48d32510-e078-49f0-8b0b-0c94ed40aafb",
   "metadata": {},
   "outputs": [],
   "source": [
    "fast_Text_model = Word2Vec.load(\"ft_model\")"
   ]
  },
  {
   "cell_type": "code",
   "execution_count": 420,
   "id": "23c8b4dc-4ea2-4486-8ba6-60838fec8348",
   "metadata": {},
   "outputs": [
    {
     "data": {
      "text/plain": [
       "(300,)"
      ]
     },
     "execution_count": 420,
     "metadata": {},
     "output_type": "execute_result"
    }
   ],
   "source": [
    "# Check word embedding for a perticular word\n",
    "fast_Text_model.wv['php'].shape"
   ]
  },
  {
   "cell_type": "code",
   "execution_count": 421,
   "id": "8619e296-6e28-4a7f-a3c4-ac501e351635",
   "metadata": {},
   "outputs": [
    {
     "data": {
      "text/plain": [
       "array([ 0.47154996, -0.5385316 , -1.0702249 ,  0.14381443, -0.34787083,\n",
       "       -0.34851724, -0.18766901, -0.15059078,  0.21502893,  0.29635158,\n",
       "        0.8088966 ,  0.52767944,  0.7984106 ,  0.43403485,  0.00164876,\n",
       "       -0.08142822,  0.03877968,  0.26093104, -0.15712214, -0.84261924,\n",
       "       -0.33610156, -0.04219335, -0.23778145, -0.15342338, -0.4106818 ,\n",
       "        0.32586935, -0.30387643, -0.34317118,  0.2649446 ,  0.10058807,\n",
       "       -0.44145474,  0.20605502,  0.38810897,  0.26630577, -0.40555635,\n",
       "       -0.18730812, -0.01404773,  0.0427447 , -0.04268811, -0.24148352,\n",
       "        0.25408086, -0.03693491,  0.09477597, -0.57325226, -0.20779167,\n",
       "        0.05051378, -0.07622297,  0.1374497 ,  0.4433795 , -0.03826925,\n",
       "        0.5798488 , -0.19464663, -0.2349924 ,  0.14943936, -0.37479857,\n",
       "       -0.16971357, -0.5521328 ,  0.6641065 ,  0.13679343,  0.00681442,\n",
       "        0.0271311 ,  0.18397732,  0.34501746, -0.75881207,  0.20457499,\n",
       "       -0.0622588 ,  0.46520686, -0.806003  , -0.10781436,  0.05485296,\n",
       "       -0.28044242,  0.27581713,  0.11918349,  0.24814275, -0.10545949,\n",
       "        0.13863309,  0.8386572 ,  0.27127627, -0.60089266,  0.34727806,\n",
       "        0.16120164,  0.6980995 , -0.13560852, -0.09686415,  0.42090234,\n",
       "       -0.3851724 ,  0.5539915 ,  0.01725669, -0.61040986,  0.43587276,\n",
       "       -0.04201453, -0.06822962,  0.39195892, -0.02545388,  0.3876829 ,\n",
       "        0.3262647 , -0.14554359,  1.2242062 ,  0.6259653 ,  0.9571802 ,\n",
       "       -0.41414198, -0.28863636, -0.22264013, -0.26473087, -0.00300716,\n",
       "       -0.27746442, -0.03816674,  0.5043822 ,  0.18696268,  0.21056117,\n",
       "       -0.09368479, -0.37247744, -0.23873936, -0.3885003 , -0.5088615 ,\n",
       "       -0.06384753, -0.02128232,  0.31850305, -0.40848488,  0.10071473,\n",
       "       -0.637462  , -0.64285976, -0.0301413 , -0.21047255,  0.20719524,\n",
       "        0.107566  , -0.41935322,  0.01963802,  0.31007424,  0.21901964,\n",
       "       -0.5563831 , -0.09548701,  0.443087  , -0.18026482,  0.07009237,\n",
       "       -0.09697404,  0.38868454,  0.26717192, -0.40291637, -0.22430205,\n",
       "       -0.5318948 , -0.0394025 ,  0.06837951,  0.6640754 ,  0.32396072,\n",
       "       -0.48835698,  0.38602012, -0.01914164, -0.7007145 , -0.5650822 ,\n",
       "       -0.24233107, -0.28684956,  0.12274092,  0.21571437, -0.18058117,\n",
       "        0.08736251, -0.5209018 ,  0.54254365,  0.05017494,  0.20815055,\n",
       "        0.35290965,  0.0727822 ,  0.26489487, -0.366927  , -0.35263935,\n",
       "       -0.3936203 ,  0.32906035,  0.04224576, -0.3939448 , -0.632215  ,\n",
       "        0.34572273, -0.60527927,  0.11083414,  0.41236383, -0.30078444,\n",
       "       -0.2038776 , -0.5533144 ,  0.07251576, -0.0379523 ,  0.45451814,\n",
       "       -0.44482496, -0.36266097,  0.9293312 , -0.9671833 , -0.22640538,\n",
       "       -0.10997697, -0.7264657 ,  0.09654167,  0.08944773,  0.10632813,\n",
       "       -0.21828756, -0.35466534,  0.37822527, -0.2929652 ,  0.74960834,\n",
       "        0.34109473, -0.10485447,  0.15203299,  0.4311738 ,  0.05292005,\n",
       "       -0.3710216 ,  0.5471438 ,  0.33038446, -0.5110568 ,  0.51378524,\n",
       "       -0.5804816 ,  0.27015224, -0.14456446,  0.219746  ,  0.29553026,\n",
       "        0.20924899, -0.39789572,  0.38110828,  0.37111348,  0.25331178,\n",
       "        0.4433535 , -0.48428482, -0.22213115,  0.11298827,  0.34272337,\n",
       "        0.4960236 , -0.38527033, -0.02703008,  0.42185864,  0.21960671,\n",
       "       -0.12302917,  0.45253533,  0.19739342, -0.29660442, -0.04629165,\n",
       "       -0.30412146,  0.04606235,  0.39523098, -0.7115911 , -0.07426532,\n",
       "       -0.6520296 , -0.505371  , -0.35413116, -0.07997483,  0.12582666,\n",
       "        0.32337147, -0.07332797,  0.03620032, -0.08524628,  0.5694984 ,\n",
       "       -0.16437541, -0.21330325,  0.10133971, -0.72893554,  0.08763086,\n",
       "       -0.6629605 ,  0.40652105,  0.49048132, -0.38173538, -0.21542107,\n",
       "       -0.5751136 ,  1.0801142 , -0.29814562, -0.01460566, -0.45215204,\n",
       "        0.47573134, -0.5466882 ,  0.01761782,  0.88043326,  0.0081585 ,\n",
       "        0.30611184,  0.34876084, -0.03764117,  0.86443585,  0.5593601 ,\n",
       "        0.27688807, -0.2778578 ,  0.1675668 ,  0.37343183,  0.0825919 ,\n",
       "       -0.47096887,  0.01950511, -0.6450669 ,  0.3500965 , -0.26425534,\n",
       "       -0.3561618 ,  0.00420047,  0.7895123 ,  0.25007668, -0.34104055,\n",
       "       -0.45834583, -0.23890845,  0.10533867, -0.19150878, -0.3043681 ,\n",
       "        0.403653  , -0.2788728 , -0.11061462,  0.14601459, -0.05525188,\n",
       "        0.33379483, -0.31487733, -0.51562256,  0.10992428, -0.20328811],\n",
       "      dtype=float32)"
      ]
     },
     "execution_count": 421,
     "metadata": {},
     "output_type": "execute_result"
    }
   ],
   "source": [
    "fast_Text_model.wv['php']"
   ]
  },
  {
   "cell_type": "code",
   "execution_count": 31,
   "id": "16252ace-301d-4242-b2f7-b7c692c4bd0c",
   "metadata": {},
   "outputs": [
    {
     "data": {
      "text/plain": [
       "[('java', 0.4728028178215027),\n",
       " ('mysql', 0.46914106607437134),\n",
       " ('python', 0.45565277338027954),\n",
       " ('javascript', 0.4515426754951477),\n",
       " ('jquery', 0.4338839650154114),\n",
       " ('node', 0.4337623119354248),\n",
       " ('ember', 0.4315042197704315),\n",
       " ('ajax', 0.4300656318664551),\n",
       " ('angularjs', 0.42451247572898865),\n",
       " ('xhtml', 0.40943750739097595)]"
      ]
     },
     "execution_count": 31,
     "metadata": {},
     "output_type": "execute_result"
    }
   ],
   "source": [
    "# Check top 10 similar word for a given word by gensim fastText\n",
    "fast_Text_model.wv.most_similar('php', topn=10)"
   ]
  },
  {
   "cell_type": "code",
   "execution_count": 35,
   "id": "3a5f7c86-82c4-433f-8842-3cd65ee445ec",
   "metadata": {},
   "outputs": [
    {
     "data": {
      "text/plain": [
       "0.3233458"
      ]
     },
     "execution_count": 35,
     "metadata": {},
     "output_type": "execute_result"
    }
   ],
   "source": [
    "# Check top 10 similarity score between two word\n",
    "fast_Text_model.wv.similarity('php', 'html')"
   ]
  },
  {
   "cell_type": "code",
   "execution_count": 33,
   "id": "6818ca7b-5d34-4e5f-b05d-6554b87a6b66",
   "metadata": {},
   "outputs": [
    {
     "data": {
      "text/plain": [
       "[('circle', 0.09757086634635925),\n",
       " ('monitor', 0.09508572518825531),\n",
       " ('nevada', 0.0808035358786583),\n",
       " ('abnormal', 0.07999687641859055),\n",
       " ('analyzes', 0.07786853611469269),\n",
       " ('improves', 0.06348906457424164),\n",
       " ('judgment', 0.06347638368606567),\n",
       " ('charge', 0.06297345459461212),\n",
       " ('pain', 0.06237025931477547),\n",
       " ('evaluates', 0.05974341556429863)]"
      ]
     },
     "execution_count": 33,
     "metadata": {},
     "output_type": "execute_result"
    }
   ],
   "source": [
    "# Most opposite to a word\n",
    "fast_Text_model.wv.most_similar(negative=[\"php\"], topn=10)"
   ]
  },
  {
   "cell_type": "markdown",
   "id": "63f8da95-3472-4ff4-b814-fd8f50cb1457",
   "metadata": {},
   "source": [
    "## Visualization"
   ]
  },
  {
   "cell_type": "code",
   "execution_count": 27,
   "id": "0e70f7a3-cc13-4928-9236-b7a33e5275f2",
   "metadata": {},
   "outputs": [],
   "source": [
    "# tsne plot for below word\n",
    "# for_word = 'it'\n",
    "def tsne_plot(for_word, w2v_model):\n",
    "    # trained fastText model dimention\n",
    "    dim_size = w2v_model.wv.vectors.shape[1]\n",
    " \n",
    "    arrays = np.empty((0, dim_size), dtype='f')\n",
    "    word_labels = [for_word]\n",
    "    color_list  = ['red']\n",
    " \n",
    "    # adds the vector of the query word\n",
    "    arrays = np.append(arrays, w2v_model.wv.__getitem__([for_word]), axis=0)\n",
    " \n",
    "    # gets list of most similar words\n",
    "    sim_words = w2v_model.wv.most_similar(for_word, topn=10)\n",
    " \n",
    "    # adds the vector for each of the closest words to the array\n",
    "    for wrd_score in sim_words:\n",
    "        wrd_vector = w2v_model.wv.__getitem__([wrd_score[0]])\n",
    "        word_labels.append(wrd_score[0])\n",
    "        color_list.append('green')\n",
    "        arrays = np.append(arrays, wrd_vector, axis=0)\n",
    " \n",
    "    #---------------------- Apply PCA and tsne to reduce dimention --------------\n",
    " \n",
    "    # fit 2d PCA model to the similar word vectors\n",
    "    model_pca = PCA(n_components = 10).fit_transform(arrays)\n",
    " \n",
    "    # Finds 2d coordinates t-SNE\n",
    "    np.set_printoptions(suppress=True)\n",
    "    Y = TSNE(n_components=2, random_state=0, perplexity=15).fit_transform(model_pca)\n",
    " \n",
    "    # Sets everything up to plot\n",
    "    df_plot = pd.DataFrame({'x': [x for x in Y[:, 0]],\n",
    "                       'y': [y for y in Y[:, 1]],\n",
    "                       'words_name': word_labels,\n",
    "                       'words_color': color_list})\n",
    " \n",
    "    #------------------------- tsne plot Python -----------------------------------\n",
    " \n",
    "    # plot dots with color and position\n",
    "    plot_dot = sns.regplot(data=df_plot,\n",
    "                     x=\"x\",\n",
    "                     y=\"y\",\n",
    "                     fit_reg=False,\n",
    "                     marker=\"o\",\n",
    "                     scatter_kws={'s': 40,\n",
    "                                  'facecolors': df_plot['words_color']\n",
    "                                 }\n",
    "                    )\n",
    " \n",
    "    # Adds annotations with color one by one with a loop\n",
    "    for line in range(0, df_plot.shape[0]):\n",
    "         plot_dot.text(df_plot[\"x\"][line],\n",
    "                 df_plot['y'][line],\n",
    "                 '  ' + df_plot[\"words_name\"][line].title(),\n",
    "                 horizontalalignment='left',\n",
    "                 verticalalignment='bottom', size='medium',\n",
    "                 color=df_plot['words_color'][line],\n",
    "                 weight='normal'\n",
    "                ).set_size(15)\n",
    " \n",
    " \n",
    "    plt.xlim(Y[:, 0].min()-50, Y[:, 0].max()+50)\n",
    "    plt.ylim(Y[:, 1].min()-50, Y[:, 1].max()+50)\n",
    " \n",
    "    plt.title('t-SNE visualization for word \"{}'.format(for_word.title()) +'\"')\n"
   ]
  },
  {
   "cell_type": "code",
   "execution_count": 36,
   "id": "15d83e1e-10b6-4235-abd9-352653b8d2d4",
   "metadata": {},
   "outputs": [
    {
     "data": {
      "image/png": "[encoded data removed]",
      "text/plain": [
       "<Figure size 432x288 with 1 Axes>"
      ]
     },
     "metadata": {
      "needs_background": "light"
     },
     "output_type": "display_data"
    }
   ],
   "source": [
    "# tsne plot for top 10 similar word to 'chicken'\n",
    "tsne_plot(for_word='php', w2v_model=fast_Text_model)"
   ]
  },
  {
   "cell_type": "markdown",
   "id": "d1ec4c43-bb2d-40f1-b417-8f38ceb6a296",
   "metadata": {},
   "source": [
    "## Modelisation"
   ]
  },
  {
   "cell_type": "code",
   "execution_count": 53,
   "id": "bf26b60a-6c6c-4db6-b1ed-c4e7a5ea9d7e",
   "metadata": {},
   "outputs": [],
   "source": [
    "import numpy as np"
   ]
  },
  {
   "cell_type": "code",
   "execution_count": 61,
   "id": "2f52de75-aaea-4e90-b32f-f7013a561c3b",
   "metadata": {},
   "outputs": [],
   "source": [
    "mean_description = []\n",
    "for clean_val in word_tokens:\n",
    "    mean_descrip = np.mean([fast_Text_model.wv[x] for x in clean_val], axis=0)\n",
    "    mean_description.append(mean_descrip)"
   ]
  },
  {
   "cell_type": "code",
   "execution_count": 62,
   "id": "092c7c21-7273-4472-a460-ab6275ed7b44",
   "metadata": {},
   "outputs": [
    {
     "data": {
      "text/plain": [
       "6673"
      ]
     },
     "execution_count": 62,
     "metadata": {},
     "output_type": "execute_result"
    }
   ],
   "source": [
    "len(mean_description)"
   ]
  },
  {
   "cell_type": "code",
   "execution_count": 64,
   "id": "a41843fb-d32b-47f6-9a43-5e2c47658944",
   "metadata": {},
   "outputs": [],
   "source": [
    "model_df = pd.DataFrame(mean_description)"
   ]
  },
  {
   "cell_type": "code",
   "execution_count": 67,
   "id": "8afd5d19-51d1-4746-ba8d-00690e63e61b",
   "metadata": {},
   "outputs": [],
   "source": [
    "model_df['target'] = df['category']"
   ]
  },
  {
   "cell_type": "code",
   "execution_count": 68,
   "id": "aab833af-7422-44a5-99c7-25c1a4b452d5",
   "metadata": {},
   "outputs": [
    {
     "data": {
      "text/html": [
       "<div>\n",
       "<style scoped>\n",
       "    .dataframe tbody tr th:only-of-type {\n",
       "        vertical-align: middle;\n",
       "    }\n",
       "\n",
       "    .dataframe tbody tr th {\n",
       "        vertical-align: top;\n",
       "    }\n",
       "\n",
       "    .dataframe thead th {\n",
       "        text-align: right;\n",
       "    }\n",
       "</style>\n",
       "<table border=\"1\" class=\"dataframe\">\n",
       "  <thead>\n",
       "    <tr style=\"text-align: right;\">\n",
       "      <th></th>\n",
       "      <th>0</th>\n",
       "      <th>1</th>\n",
       "      <th>2</th>\n",
       "      <th>3</th>\n",
       "      <th>4</th>\n",
       "      <th>5</th>\n",
       "      <th>6</th>\n",
       "      <th>7</th>\n",
       "      <th>8</th>\n",
       "      <th>9</th>\n",
       "      <th>...</th>\n",
       "      <th>291</th>\n",
       "      <th>292</th>\n",
       "      <th>293</th>\n",
       "      <th>294</th>\n",
       "      <th>295</th>\n",
       "      <th>296</th>\n",
       "      <th>297</th>\n",
       "      <th>298</th>\n",
       "      <th>299</th>\n",
       "      <th>target</th>\n",
       "    </tr>\n",
       "  </thead>\n",
       "  <tbody>\n",
       "    <tr>\n",
       "      <th>0</th>\n",
       "      <td>0.000537</td>\n",
       "      <td>0.061436</td>\n",
       "      <td>-0.177338</td>\n",
       "      <td>0.093104</td>\n",
       "      <td>-0.033738</td>\n",
       "      <td>0.091043</td>\n",
       "      <td>0.154721</td>\n",
       "      <td>-0.042880</td>\n",
       "      <td>-0.023236</td>\n",
       "      <td>-0.133889</td>\n",
       "      <td>...</td>\n",
       "      <td>0.077545</td>\n",
       "      <td>-0.173614</td>\n",
       "      <td>0.159851</td>\n",
       "      <td>0.111940</td>\n",
       "      <td>0.032545</td>\n",
       "      <td>-0.142774</td>\n",
       "      <td>-0.207894</td>\n",
       "      <td>-0.121579</td>\n",
       "      <td>-0.229990</td>\n",
       "      <td>it</td>\n",
       "    </tr>\n",
       "    <tr>\n",
       "      <th>1</th>\n",
       "      <td>0.074989</td>\n",
       "      <td>0.003745</td>\n",
       "      <td>-0.214197</td>\n",
       "      <td>0.132305</td>\n",
       "      <td>-0.065197</td>\n",
       "      <td>0.095900</td>\n",
       "      <td>0.277600</td>\n",
       "      <td>-0.074231</td>\n",
       "      <td>-0.143516</td>\n",
       "      <td>-0.018421</td>\n",
       "      <td>...</td>\n",
       "      <td>0.145595</td>\n",
       "      <td>-0.243770</td>\n",
       "      <td>0.117161</td>\n",
       "      <td>0.146426</td>\n",
       "      <td>0.115786</td>\n",
       "      <td>-0.105279</td>\n",
       "      <td>-0.104396</td>\n",
       "      <td>-0.051458</td>\n",
       "      <td>-0.204164</td>\n",
       "      <td>experienced</td>\n",
       "    </tr>\n",
       "    <tr>\n",
       "      <th>2</th>\n",
       "      <td>0.008570</td>\n",
       "      <td>0.025629</td>\n",
       "      <td>-0.108684</td>\n",
       "      <td>0.131971</td>\n",
       "      <td>-0.002385</td>\n",
       "      <td>0.006054</td>\n",
       "      <td>0.221696</td>\n",
       "      <td>0.092372</td>\n",
       "      <td>0.001577</td>\n",
       "      <td>-0.082162</td>\n",
       "      <td>...</td>\n",
       "      <td>0.091170</td>\n",
       "      <td>-0.143457</td>\n",
       "      <td>0.129136</td>\n",
       "      <td>0.085668</td>\n",
       "      <td>0.101278</td>\n",
       "      <td>-0.118130</td>\n",
       "      <td>-0.113353</td>\n",
       "      <td>0.011193</td>\n",
       "      <td>-0.124432</td>\n",
       "      <td>customer support</td>\n",
       "    </tr>\n",
       "    <tr>\n",
       "      <th>3</th>\n",
       "      <td>0.028448</td>\n",
       "      <td>0.124344</td>\n",
       "      <td>-0.096533</td>\n",
       "      <td>0.143635</td>\n",
       "      <td>-0.073637</td>\n",
       "      <td>0.075153</td>\n",
       "      <td>0.100439</td>\n",
       "      <td>-0.005960</td>\n",
       "      <td>-0.068829</td>\n",
       "      <td>-0.080395</td>\n",
       "      <td>...</td>\n",
       "      <td>0.102881</td>\n",
       "      <td>-0.202315</td>\n",
       "      <td>0.163710</td>\n",
       "      <td>-0.004122</td>\n",
       "      <td>0.009899</td>\n",
       "      <td>-0.079401</td>\n",
       "      <td>-0.272837</td>\n",
       "      <td>-0.035393</td>\n",
       "      <td>-0.109633</td>\n",
       "      <td>customer support</td>\n",
       "    </tr>\n",
       "    <tr>\n",
       "      <th>4</th>\n",
       "      <td>0.113256</td>\n",
       "      <td>-0.061997</td>\n",
       "      <td>-0.132299</td>\n",
       "      <td>0.129360</td>\n",
       "      <td>0.022835</td>\n",
       "      <td>0.066457</td>\n",
       "      <td>0.228832</td>\n",
       "      <td>0.024359</td>\n",
       "      <td>-0.051603</td>\n",
       "      <td>-0.098156</td>\n",
       "      <td>...</td>\n",
       "      <td>0.067217</td>\n",
       "      <td>-0.152840</td>\n",
       "      <td>0.181807</td>\n",
       "      <td>0.061525</td>\n",
       "      <td>0.051725</td>\n",
       "      <td>-0.089332</td>\n",
       "      <td>-0.194775</td>\n",
       "      <td>0.004176</td>\n",
       "      <td>-0.139168</td>\n",
       "      <td>customer support</td>\n",
       "    </tr>\n",
       "  </tbody>\n",
       "</table>\n",
       "<p>5 rows × 301 columns</p>\n",
       "</div>"
      ],
      "text/plain": [
       "          0         1         2         3         4         5         6  \\\n",
       "0  0.000537  0.061436 -0.177338  0.093104 -0.033738  0.091043  0.154721   \n",
       "1  0.074989  0.003745 -0.214197  0.132305 -0.065197  0.095900  0.277600   \n",
       "2  0.008570  0.025629 -0.108684  0.131971 -0.002385  0.006054  0.221696   \n",
       "3  0.028448  0.124344 -0.096533  0.143635 -0.073637  0.075153  0.100439   \n",
       "4  0.113256 -0.061997 -0.132299  0.129360  0.022835  0.066457  0.228832   \n",
       "\n",
       "          7         8         9  ...       291       292       293       294  \\\n",
       "0 -0.042880 -0.023236 -0.133889  ...  0.077545 -0.173614  0.159851  0.111940   \n",
       "1 -0.074231 -0.143516 -0.018421  ...  0.145595 -0.243770  0.117161  0.146426   \n",
       "2  0.092372  0.001577 -0.082162  ...  0.091170 -0.143457  0.129136  0.085668   \n",
       "3 -0.005960 -0.068829 -0.080395  ...  0.102881 -0.202315  0.163710 -0.004122   \n",
       "4  0.024359 -0.051603 -0.098156  ...  0.067217 -0.152840  0.181807  0.061525   \n",
       "\n",
       "        295       296       297       298       299            target  \n",
       "0  0.032545 -0.142774 -0.207894 -0.121579 -0.229990                it  \n",
       "1  0.115786 -0.105279 -0.104396 -0.051458 -0.204164       experienced  \n",
       "2  0.101278 -0.118130 -0.113353  0.011193 -0.124432  customer support  \n",
       "3  0.009899 -0.079401 -0.272837 -0.035393 -0.109633  customer support  \n",
       "4  0.051725 -0.089332 -0.194775  0.004176 -0.139168  customer support  \n",
       "\n",
       "[5 rows x 301 columns]"
      ]
     },
     "execution_count": 68,
     "metadata": {},
     "output_type": "execute_result"
    }
   ],
   "source": [
    "model_df.head()"
   ]
  },
  {
   "cell_type": "code",
   "execution_count": 338,
   "id": "36ad16c4-bf39-45d0-ae92-049bf1daad08",
   "metadata": {},
   "outputs": [],
   "source": [
    "filter_df = model_df[model_df[\"target\"]==\"it\"][:100].copy()"
   ]
  },
  {
   "cell_type": "code",
   "execution_count": 339,
   "id": "0fdc220d-cd91-4b3b-af97-4f07bdd55eeb",
   "metadata": {},
   "outputs": [],
   "source": [
    "ct = list(model_df['target'].unique())\n",
    "for c in ct:\n",
    "    if c != \"it\":\n",
    "        filter_df = pd.concat([filter_df,model_df[model_df[\"target\"]==c][:100]])"
   ]
  },
  {
   "cell_type": "code",
   "execution_count": 340,
   "id": "07203d93-5d27-45ac-95d0-078acb3dcae3",
   "metadata": {},
   "outputs": [],
   "source": [
    "#filter_df.target.unique()"
   ]
  },
  {
   "cell_type": "code",
   "execution_count": 341,
   "id": "dc29ee27-e13f-4fda-844e-2599ba2bc50e",
   "metadata": {},
   "outputs": [],
   "source": [
    "#filter_df.groupby('target')['target'].count().sort_values().index"
   ]
  },
  {
   "cell_type": "code",
   "execution_count": 342,
   "id": "4bdb57cf-3c18-469d-b91b-8029529804dc",
   "metadata": {},
   "outputs": [],
   "source": [
    "filter_df = filter_df[filter_df['target'].isin(['administrative', 'building construction', 'student', 'security',\n",
    "       'education', 'business', 'biotech', 'engineering', 'human', 'general',\n",
    "       'customer support', 'sales', 'entry', 'quality assurance',\n",
    "       'experienced', 'food services', 'medical', 'marketing',\n",
    "       'manufacturing', 'logistics', 'legal', 'installation','it'])]"
   ]
  },
  {
   "cell_type": "code",
   "execution_count": 343,
   "id": "ef4f70b1-2050-457d-a2ff-0acff5192ef9",
   "metadata": {},
   "outputs": [
    {
     "data": {
      "text/plain": [
       "<AxesSubplot:ylabel='target'>"
      ]
     },
     "execution_count": 343,
     "metadata": {},
     "output_type": "execute_result"
    },
    {
     "data": {
      "image/png": "[encoded data removed]",
      "text/plain": [
       "<Figure size 864x576 with 1 Axes>"
      ]
     },
     "metadata": {
      "needs_background": "light"
     },
     "output_type": "display_data"
    }
   ],
   "source": [
    "filter_df.groupby('target')['target'].count().plot(kind='barh', figsize=(12,8))"
   ]
  },
  {
   "cell_type": "code",
   "execution_count": 344,
   "id": "16d19dad-858c-49aa-a2b6-83a1e9802447",
   "metadata": {},
   "outputs": [],
   "source": [
    "from sklearn.model_selection import train_test_split\n",
    "from sklearn import preprocessing\n",
    "import time, math\n",
    "from sklearn.metrics import accuracy_score"
   ]
  },
  {
   "cell_type": "code",
   "execution_count": 345,
   "id": "5f2b43ef-001e-496e-a5d4-b8503afa16ff",
   "metadata": {},
   "outputs": [],
   "source": [
    "X = filter_df.drop(columns=['target'])\n",
    "\n",
    "le = preprocessing.LabelEncoder()\n",
    "y = le.fit_transform(list(filter_df.target))\n",
    "\n",
    "X_train, X_test, y_train, y_test = train_test_split(X,y,test_size=0.33, random_state=1)"
   ]
  },
  {
   "cell_type": "code",
   "execution_count": 346,
   "id": "7ee3ccff-2756-495c-89e5-6bfc4c8d216b",
   "metadata": {},
   "outputs": [
    {
     "data": {
      "text/html": [
       "<div>\n",
       "<style scoped>\n",
       "    .dataframe tbody tr th:only-of-type {\n",
       "        vertical-align: middle;\n",
       "    }\n",
       "\n",
       "    .dataframe tbody tr th {\n",
       "        vertical-align: top;\n",
       "    }\n",
       "\n",
       "    .dataframe thead th {\n",
       "        text-align: right;\n",
       "    }\n",
       "</style>\n",
       "<table border=\"1\" class=\"dataframe\">\n",
       "  <thead>\n",
       "    <tr style=\"text-align: right;\">\n",
       "      <th></th>\n",
       "      <th>family</th>\n",
       "      <th>model</th>\n",
       "      <th>classification_rate</th>\n",
       "      <th>runtime</th>\n",
       "    </tr>\n",
       "  </thead>\n",
       "  <tbody>\n",
       "    <tr>\n",
       "      <th>0</th>\n",
       "      <td>RF</td>\n",
       "      <td>RF-10</td>\n",
       "      <td>0.485804</td>\n",
       "      <td>0.221094</td>\n",
       "    </tr>\n",
       "    <tr>\n",
       "      <th>1</th>\n",
       "      <td>RF</td>\n",
       "      <td>RF-100</td>\n",
       "      <td>0.591483</td>\n",
       "      <td>2.084646</td>\n",
       "    </tr>\n",
       "    <tr>\n",
       "      <th>2</th>\n",
       "      <td>RF</td>\n",
       "      <td>RF-1000</td>\n",
       "      <td>0.619874</td>\n",
       "      <td>21.063822</td>\n",
       "    </tr>\n",
       "  </tbody>\n",
       "</table>\n",
       "</div>"
      ],
      "text/plain": [
       "  family    model  classification_rate    runtime\n",
       "0     RF    RF-10             0.485804   0.221094\n",
       "1     RF   RF-100             0.591483   2.084646\n",
       "2     RF  RF-1000             0.619874  21.063822"
      ]
     },
     "execution_count": 346,
     "metadata": {},
     "output_type": "execute_result"
    }
   ],
   "source": [
    "from sklearn.ensemble import RandomForestClassifier\n",
    "\n",
    "cols_results=['family','model','classification_rate','runtime']\n",
    "results = pd.DataFrame(columns=cols_results)\n",
    "rVals = range(1,4)\n",
    "rf_names = ['RF-'+str(int(math.pow(10,r))) for r in rVals]\n",
    "for r in rVals:\n",
    "    clf = RandomForestClassifier(n_estimators=int(math.pow(10,r)),random_state=0)\n",
    "    time_start = time.time()\n",
    "    clf.fit(X_train,y_train)\n",
    "    time_run = time.time()-time_start\n",
    "    y_pred=clf.predict(X_test)\n",
    "    \n",
    "    results = results.append(pd.DataFrame([['RF',rf_names[r-1],accuracy_score(y_test,y_pred),time_run]],columns=cols_results),ignore_index=True)\n",
    "    \n",
    "results[results.family=='RF']"
   ]
  },
  {
   "cell_type": "markdown",
   "id": "6b7c7d9c-de25-4bc5-8f57-fa33ba0fe5d2",
   "metadata": {},
   "source": [
    "## Use the model"
   ]
  },
  {
   "cell_type": "code",
   "execution_count": 412,
   "id": "cbc5dbea-86f9-494d-9b8b-a4c44bbfb7ba",
   "metadata": {},
   "outputs": [],
   "source": [
    "description = \"\"\"IT ASSOCIATE, Abdul Latif Jameel Poverty Action Lab (J-PAL), to assist with day-to-day end-user support, including creating system images, setting up new machines for staff, provisioning accounts, troubleshooting user issues, data import and cleaning activities, assisting with reporting, \n",
    "creating user documentation, and working with senior staff to improve overall technology deployment. \n",
    "Specific responsibilities may include responding to support tickets for user support and researching problems \n",
    "prior to escalation, assisting staff with troubleshooting hardware issues and escalating when necessary, \n",
    "creating new accounts, shutting down old accounts and resetting passwords, work with the IT team to import data, \n",
    "identify and merge duplicates and clean data using defined processes, monitor spam and alert the IT team to any \n",
    "suspicious activity, and assist staff with creating reports and dashboards on Salesforce.\"\"\""
   ]
  },
  {
   "cell_type": "code",
   "execution_count": 393,
   "id": "416a09df-b21b-4e36-a7f3-014f4acd84f2",
   "metadata": {},
   "outputs": [],
   "source": [
    "description = \"\"\"The Vertex Summer Co-op Program offers students the opportunity to learn about the pharmaceutical industry from a hands-on perspective. \n",
    "You will be working closely with and learning from some of the brightest people in the industry.\"\"\""
   ]
  },
  {
   "cell_type": "code",
   "execution_count": 398,
   "id": "c18a5989-ffcc-4b86-9654-6fd92f15cf08",
   "metadata": {},
   "outputs": [],
   "source": [
    "description = \"\"\"In the clinical area the practice assistant, under the direction and supervision of a licensed Nurse or Provider, and in accordance with \n",
    "hospital policies, procedures, protocols, and standards of practice participates in the delivery of patient care.\"\"\""
   ]
  },
  {
   "cell_type": "code",
   "execution_count": 413,
   "id": "f9eacaf9-6623-4704-94e4-c937f2555b12",
   "metadata": {},
   "outputs": [],
   "source": [
    "clean_desc = process_text(description)\n",
    "mean_desc = np.mean([fast_Text_model.wv[x] for x in clean_desc], axis=0)"
   ]
  },
  {
   "cell_type": "code",
   "execution_count": 414,
   "id": "1bce4487-0c7a-40d6-a1b0-ab299ba378ea",
   "metadata": {},
   "outputs": [],
   "source": [
    "predict_label = clf.predict(np.array(mean_desc).reshape(1, -1))[0]"
   ]
  },
  {
   "cell_type": "code",
   "execution_count": 415,
   "id": "181fbcdb-1245-471f-a695-b3d3df0b8d4a",
   "metadata": {},
   "outputs": [
    {
     "data": {
      "text/plain": [
       "'business'"
      ]
     },
     "execution_count": 415,
     "metadata": {},
     "output_type": "execute_result"
    }
   ],
   "source": [
    "le.classes_[predict_label]"
   ]
  },
  {
   "cell_type": "code",
   "execution_count": 416,
   "id": "d39b0762-d6a5-4a36-a3fb-6685481e5f89",
   "metadata": {},
   "outputs": [
    {
     "data": {
      "text/plain": [
       "0.072"
      ]
     },
     "execution_count": 416,
     "metadata": {},
     "output_type": "execute_result"
    }
   ],
   "source": [
    "clf.predict_proba(np.array(mean_desc).reshape(1, -1))[0][predict_label]"
   ]
  },
  {
   "cell_type": "code",
   "execution_count": 417,
   "id": "1726fe00-dd96-4090-9085-4c822e07ab9a",
   "metadata": {},
   "outputs": [
    {
     "data": {
      "text/plain": [
       "array([0.016 , 0.054 , 0.044 , 0.072 , 0.051 , 0.023 , 0.056 , 0.059 ,\n",
       "       0.052 , 0.021 , 0.042 , 0.062 , 0.021 , 0.064 , 0.036 , 0.0166,\n",
       "       0.0594, 0.063 , 0.037 , 0.063 , 0.056 , 0.01  , 0.022 ])"
      ]
     },
     "execution_count": 417,
     "metadata": {},
     "output_type": "execute_result"
    }
   ],
   "source": [
    "clf.predict_proba(np.array(mean_desc).reshape(1, -1))[0]"
   ]
  },
  {
   "cell_type": "code",
   "execution_count": null,
   "id": "1c3fae6f-d6c3-4819-a600-7e5290e91846",
   "metadata": {},
   "outputs": [],
   "source": []
  }
 ],
 "metadata": {
  "environment": {
   "kernel": "python3",
   "name": "common-cu110.m87",
   "type": "gcloud",
   "uri": "gcr.io/deeplearning-platform-release/base-cu110:m87"
  },
  "kernelspec": {
   "display_name": "Python 3",
   "language": "python",
   "name": "python3"
  },
  "language_info": {
   "codemirror_mode": {
    "name": "ipython",
    "version": 3
   },
   "file_extension": ".py",
   "mimetype": "text/x-python",
   "name": "python",
   "nbconvert_exporter": "python",
   "pygments_lexer": "ipython3",
   "version": "3.7.12"
  }
 },
 "nbformat": 4,
 "nbformat_minor": 5
}
